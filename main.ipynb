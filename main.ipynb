{
 "cells": [
  {
   "cell_type": "code",
   "execution_count": null,
   "metadata": {},
   "outputs": [],
   "source": [
    "# ollama create example -f Modelfile"
   ]
  },
  {
   "cell_type": "code",
   "execution_count": null,
   "metadata": {},
   "outputs": [],
   "source": [
    "from langchain_text_splitters import RecursiveCharacterTextSplitter\n",
    "from langchain_core.runnables import RunnablePassthrough\n",
    "from langchain_core.output_parsers import StrOutputParser\n",
    "import pickle\n",
    "from langchain_huggingface import HuggingFaceEmbeddings\n",
    "import os\n",
    "from langchain_community.llms import Ollama\n",
    "\n",
    "llm = Ollama(model=\"phi3\")\n",
    "embeddings = HuggingFaceEmbeddings(model_name=\"avsolatorio/GIST-Embedding-v0\")"
   ]
  },
  {
   "cell_type": "code",
   "execution_count": 7,
   "metadata": {},
   "outputs": [],
   "source": [
    "# url = \"https://docs.streamlit.io/\"\n",
    "# loader = RecursiveUrlLoader(url=url, max_depth=5, extractor=lambda x: Soup(x, \"html.parser\").text)\n",
    "# docs = loader.load()\n",
    "# len(docs)\n",
    "# for i in docs:\n",
    "#     if \"content_type\" in i.metadata:\n",
    "#         del i.metadata[\"content_type\"]\n",
    "#     if \"language\" in i.metadata:\n",
    "#         del i.metadata[\"language\"]\n",
    "#     if \"description\" in i.metadata:\n",
    "# del i.metadata[\"description\"]\n",
    "# pickle.dump(docs, open(\"docs\", \"wb\"))\n",
    "\n",
    "docs = pickle.load(open(\"docs\", 'rb'))\n",
    "\n",
    "# text_splitter = RecursiveCharacterTextSplitter(\n",
    "#     chunk_size=1000, chunk_overlap=200)\n",
    "# splits = text_splitter.split_documents(docs)\n",
    "# db = Chroma.from_documents(docs, embeddings, persist_directory=\"./chroma_db\")\n",
    "# db = Chroma(persist_directory=\"./chroma_db\", embedding_function=embeddings)\n"
   ]
  },
  {
   "cell_type": "code",
   "execution_count": 8,
   "metadata": {},
   "outputs": [
    {
     "data": {
      "application/vnd.jupyter.widget-view+json": {
       "model_id": "07b48de106bc4ec686b7bfcefb0e23a0",
       "version_major": 2,
       "version_minor": 0
      },
      "text/plain": [
       "embedding nodes:   0%|          | 0/646 [00:00<?, ?it/s]"
      ]
     },
     "metadata": {},
     "output_type": "display_data"
    },
    {
     "name": "stderr",
     "output_type": "stream",
     "text": [
      "c:\\Users\\Raunaq\\Desktop\\rag_eval\\.rag\\Lib\\site-packages\\transformers\\models\\bert\\modeling_bert.py:435: UserWarning: 1Torch was not compiled with flash attention. (Triggered internally at ..\\aten\\src\\ATen\\native\\transformers\\cuda\\sdp_utils.cpp:455.)\n",
      "  attn_output = torch.nn.functional.scaled_dot_product_attention(\n"
     ]
    }
   ],
   "source": [
    "from ragas.testset.generator import TestsetGenerator\n",
    "from ragas.testset.evolutions import simple, reasoning, multi_context, conditional\n",
    "\n",
    "generator = TestsetGenerator.from_langchain(llm, llm, embeddings)\n",
    "testset = generator.generate_with_langchain_docs(docs, test_size=100, distributions={\n",
    "                                                 simple: 0.25, reasoning: 0.25, multi_context: 0.25, conditional: 0.25})"
   ]
  }
 ],
 "metadata": {
  "kernelspec": {
   "display_name": ".rag",
   "language": "python",
   "name": "python3"
  },
  "language_info": {
   "codemirror_mode": {
    "name": "ipython",
    "version": 3
   },
   "file_extension": ".py",
   "mimetype": "text/x-python",
   "name": "python",
   "nbconvert_exporter": "python",
   "pygments_lexer": "ipython3",
   "version": "3.11.9"
  }
 },
 "nbformat": 4,
 "nbformat_minor": 2
}
