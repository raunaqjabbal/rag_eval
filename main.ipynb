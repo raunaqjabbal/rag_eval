{
 "cells": [
  {
   "cell_type": "code",
   "execution_count": 20,
   "metadata": {},
   "outputs": [
    {
     "name": "stderr",
     "output_type": "stream",
     "text": [
      "c:\\Users\\Raunaq\\Desktop\\rag_eval\\.rag\\Lib\\site-packages\\huggingface_hub\\file_download.py:1132: FutureWarning: `resume_download` is deprecated and will be removed in version 1.0.0. Downloads always resume when possible. If you want to force a new download, use `force_download=True`.\n",
      "  warnings.warn(\n"
     ]
    }
   ],
   "source": [
    "from langchain.retrievers import ParentDocumentRetriever\n",
    "from langchain_chroma import Chroma\n",
    "from langchain.storage import InMemoryStore\n",
    "from langchain_openai import ChatOpenAI\n",
    "from langchain_text_splitters import RecursiveCharacterTextSplitter\n",
    "from langchain_core.runnables import RunnablePassthrough\n",
    "from langchain_core.output_parsers import StrOutputParser\n",
    "import pickle\n",
    "from langchain_huggingface import HuggingFaceEmbeddings\n",
    "import os\n",
    "import keys\n",
    "import pandas as pd\n",
    "os.environ[\"OPENAI_API_KEY\"] = keys.OPENAI_API_KEY\n",
    "\n",
    "\n",
    "llm = ChatOpenAI(model=\"gpt-3.5-turbo-0125\", max_retries=50)\n",
    "embeddings = HuggingFaceEmbeddings(model_name=\"avsolatorio/GIST-Embedding-v0\")"
   ]
  },
  {
   "cell_type": "code",
   "execution_count": 22,
   "metadata": {},
   "outputs": [],
   "source": [
    "# url = \"https://docs.streamlit.io/\"\n",
    "# loader = RecursiveUrlLoader(url=url, max_depth=5, extractor=lambda x: Soup(x, \"html.parser\").text)\n",
    "# docs = loader.load()\n",
    "# len(docs)\n",
    "# for i in docs:\n",
    "#     if \"content_type\" in i.metadata:\n",
    "#         del i.metadata[\"content_type\"]\n",
    "#     if \"language\" in i.metadata:\n",
    "#         del i.metadata[\"language\"]\n",
    "#     if \"description\" in i.metadata:\n",
    "# del i.metadata[\"description\"]\n",
    "# pickle.dump(docs, open(\"docs\", \"wb\"))\n",
    "\n",
    "docs = pickle.load(open(\"docs\", 'rb'))\n",
    "\n",
    "# text_splitter = RecursiveCharacterTextSplitter(\n",
    "#     chunk_size=1000, chunk_overlap=200)\n",
    "# splits = text_splitter.split_documents(docs)\n",
    "# db = Chroma.from_documents(docs, embeddings, persist_directory=\"./chroma_db\")\n",
    "# db = Chroma(persist_directory=\"./chroma_db\", embedding_function=embeddings)"
   ]
  },
  {
   "cell_type": "code",
   "execution_count": null,
   "metadata": {},
   "outputs": [],
   "source": [
    "# docs = docs[:39]"
   ]
  },
  {
   "cell_type": "code",
   "execution_count": null,
   "metadata": {},
   "outputs": [],
   "source": [
    "from ragas.run_config import RunConfig\n",
    "from ragas.testset.generator import TestsetGenerator\n",
    "from ragas.testset.evolutions import simple, reasoning, multi_context, conditional\n",
    "from tqdm import tqdm\n",
    "testset = []\n",
    "\n",
    "config = RunConfig(max_retries=50, max_wait=30)\n",
    "\n",
    "for i in tqdm(range(20, len(docs), 10)):\n",
    "    generator = TestsetGenerator.from_langchain(llm, llm, embeddings)\n",
    "    testset += [generator.generate_with_langchain_docs(docs[i:i+10], test_size=10, distributions={\n",
    "        simple: 0.1, reasoning: 0.3, multi_context: 0.3, conditional: 0.3}, is_async=False, raise_exceptions=False, with_debugging_logs=True, run_config=config).to_pandas()]\n",
    "    testset[-1].to_csv(f\"{i+448795792}.csv\", index=None)\n",
    "\n",
    "pd.concat(testset).to_csv(\"questions.csv\", index=None)"
   ]
  },
  {
   "cell_type": "code",
   "execution_count": 1,
   "metadata": {},
   "outputs": [],
   "source": [
    "# vectorstore = Chroma(\n",
    "#     collection_name=\"full_documents\", embedding_function=embeddings, persist_directory=\"./parent\"\n",
    "# )\n",
    "# # The storage layer for the parent documents\n",
    "# store = InMemoryStore()\n",
    "# retriever = ParentDocumentRetriever(\n",
    "#     vectorstore=vectorstore,\n",
    "#     docstore=store,\n",
    "#     child_splitter=RecursiveCharacterTextSplitter(chunk_size=400),\n",
    "#     parent_splitter=RecursiveCharacterTextSplitter(chunk_size=1000)\n",
    "\n",
    "# )\n",
    "\n",
    "# retriever.add_documents(docs)\n"
   ]
  },
  {
   "cell_type": "code",
   "execution_count": 2,
   "metadata": {},
   "outputs": [],
   "source": [
    "from rag import setup\n",
    "from langchain.schema import HumanMessage, AIMessage\n",
    "chain, rag_chain = setup()\n"
   ]
  },
  {
   "cell_type": "code",
   "execution_count": 3,
   "metadata": {},
   "outputs": [
    {
     "data": {
      "text/plain": [
       "'To cache functions that return data in Streamlit, you can use either @st.cache_data or @st.cache_resource decorators. These decorators help store the results of slow function calls, making the app faster by running the function only once. By decorating the function with @st.cache_data, Streamlit checks input parameters and function code to determine if the cached value can be used.'"
      ]
     },
     "execution_count": 3,
     "metadata": {},
     "output_type": "execute_result"
    }
   ],
   "source": [
    "messages = []\n",
    "prompt = \"What is the function decorator used to cache functions that return data in Streamlit?\"\n",
    "messages+= [{\"role\": \"user\", \"content\": prompt}]\n",
    "\n",
    "rag_context = rag_chain.invoke(prompt)\n",
    "history = [HumanMessage(content=i[\"content\"]+\"\\n\") if i[\"role\"] == \"user\" else AIMessage(\n",
    "    content=i[\"content\"]+\"\\n\") for i in messages]\n",
    "\n",
    "response = chain.invoke({\"rag_context\": rag_context, \"chat_history\": history})\n",
    "\n",
    "response"
   ]
  }
 ],
 "metadata": {
  "kernelspec": {
   "display_name": ".rag",
   "language": "python",
   "name": "python3"
  },
  "language_info": {
   "codemirror_mode": {
    "name": "ipython",
    "version": 3
   },
   "file_extension": ".py",
   "mimetype": "text/x-python",
   "name": "python",
   "nbconvert_exporter": "python",
   "pygments_lexer": "ipython3",
   "version": "3.11.9"
  }
 },
 "nbformat": 4,
 "nbformat_minor": 2
}
