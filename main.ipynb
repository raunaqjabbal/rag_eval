{
 "cells": [
  {
   "cell_type": "markdown",
   "metadata": {},
   "source": [
    "# Imports"
   ]
  },
  {
   "cell_type": "code",
   "execution_count": null,
   "metadata": {},
   "outputs": [],
   "source": [
    "from langchain.retrievers import ParentDocumentRetriever\n",
    "from langchain_chroma import Chroma\n",
    "from langchain.storage import InMemoryStore\n",
    "from langchain_openai import ChatOpenAI\n",
    "from langchain_text_splitters import RecursiveCharacterTextSplitter\n",
    "import pickle\n",
    "from langchain_huggingface import HuggingFaceEmbeddings\n",
    "import os\n",
    "import keys\n",
    "import pandas as pd\n",
    "from langchain_community.document_loaders.recursive_url_loader import RecursiveUrlLoader\n",
    "from bs4 import BeautifulSoup as Soup\n",
    "from tqdm import tqdm\n",
    "import pandas as pd\n",
    "import ast\n",
    "\n",
    "\n",
    "os.environ[\"OPENAI_API_KEY\"] = keys.OPENAI_API_KEY\n",
    "llm = ChatOpenAI(model=\"gpt-3.5-turbo-0125\", max_retries=50)\n",
    "embeddings = HuggingFaceEmbeddings(model_name=\"avsolatorio/GIST-Embedding-v0\")"
   ]
  },
  {
   "cell_type": "markdown",
   "metadata": {},
   "source": [
    "# Corpus Generation"
   ]
  },
  {
   "cell_type": "code",
   "execution_count": null,
   "metadata": {},
   "outputs": [],
   "source": [
    "# url = \"https://docs.streamlit.io/\"\n",
    "# loader = RecursiveUrlLoader(url=url, max_depth=5, extractor=lambda x: Soup(x, \"html.parser\").text)\n",
    "# docs = loader.load()\n",
    "# for i in docs:\n",
    "#     if \"content_type\" in i.metadata:\n",
    "#         del i.metadata[\"content_type\"]\n",
    "#     if \"language\" in i.metadata:\n",
    "#         del i.metadata[\"language\"]\n",
    "#     if \"description\" in i.metadata:\n",
    "#         del i.metadata[\"description\"]\n",
    "# pickle.dump(docs, open(\"docs\", \"wb\"))\n"
   ]
  },
  {
   "cell_type": "code",
   "execution_count": null,
   "metadata": {},
   "outputs": [],
   "source": [
    "docs = pickle.load(open(\"docs\", 'rb'))\n",
    "docs = docs[-9:]\n"
   ]
  },
  {
   "cell_type": "code",
   "execution_count": null,
   "metadata": {},
   "outputs": [],
   "source": [
    "# text_splitter = RecursiveCharacterTextSplitter(\n",
    "#     chunk_size=1000, chunk_overlap=200)\n",
    "# splits = text_splitter.split_documents(docs)\n",
    "# db = Chroma.from_documents(docs, embeddings, persist_directory=\"./chroma_db\")\n",
    "# db = Chroma(persist_directory=\"./chroma_db\", embedding_function=embeddings)"
   ]
  },
  {
   "cell_type": "markdown",
   "metadata": {},
   "source": [
    "# Question Generation"
   ]
  },
  {
   "cell_type": "code",
   "execution_count": null,
   "metadata": {},
   "outputs": [],
   "source": [
    "from ragas.run_config import RunConfig\n",
    "from ragas.testset.generator import TestsetGenerator\n",
    "from ragas.testset.evolutions import simple, reasoning, multi_context, conditional\n",
    "from tqdm import tqdm\n",
    "testset = []\n",
    "\n",
    "config = RunConfig(max_retries=50, max_wait=30)\n",
    "\n",
    "for i in tqdm(range(0, len(docs), 10)):\n",
    "    generator = TestsetGenerator.from_langchain(llm, llm, embeddings)\n",
    "    testset += [generator.generate_with_langchain_docs(docs[i:i+10], test_size=10, distributions={\n",
    "        simple: 0.1, reasoning: 0.3, multi_context: 0.3, conditional: 0.3}, is_async=False, raise_exceptions=False, with_debugging_logs=True, run_config=config).to_pandas()]\n",
    "    testset[-1].to_csv(f\"{i+448795792}.csv\", index=None)\n",
    "\n",
    "pd.concat(testset).to_csv(\"questions2.csv\", index=None)"
   ]
  },
  {
   "cell_type": "markdown",
   "metadata": {},
   "source": [
    "# RAG Parent Child Retriever"
   ]
  },
  {
   "cell_type": "code",
   "execution_count": null,
   "metadata": {},
   "outputs": [],
   "source": [
    "vectorstore = Chroma(\n",
    "    collection_name=\"full_documents\", embedding_function=embeddings, persist_directory=\"./parent\"\n",
    ")\n",
    "# The storage layer for the parent documents\n",
    "store = InMemoryStore()\n",
    "retriever = ParentDocumentRetriever(\n",
    "    vectorstore=vectorstore,\n",
    "    docstore=store,\n",
    "    child_splitter=RecursiveCharacterTextSplitter(chunk_size=400),\n",
    "    parent_splitter=RecursiveCharacterTextSplitter(chunk_size=1000)\n",
    "\n",
    ")\n",
    "\n",
    "retriever.add_documents(docs)\n"
   ]
  },
  {
   "cell_type": "markdown",
   "metadata": {},
   "source": [
    "# Chain Building"
   ]
  },
  {
   "cell_type": "code",
   "execution_count": null,
   "metadata": {},
   "outputs": [],
   "source": [
    "from rag import setup\n",
    "from langchain.schema import HumanMessage, AIMessage\n",
    "chain, rag_chain = setup()\n"
   ]
  },
  {
   "cell_type": "code",
   "execution_count": null,
   "metadata": {},
   "outputs": [],
   "source": [
    "messages = []\n",
    "prompt = \"What is the function decorator used to cache functions that return data in Streamlit?\"\n",
    "\n",
    "def generate_answer(prompt):\n",
    "    messages = [{\"role\": \"user\", \"content\": prompt}]\n",
    "    rag_context = rag_chain.invoke(prompt)\n",
    "    history = [HumanMessage(content=i[\"content\"]+\"\\n\") if i[\"role\"] == \"user\" else AIMessage(\n",
    "        content=i[\"content\"]+\"\\n\") for i in messages]\n",
    "    response = chain.invoke({\"rag_context\": rag_context, \"chat_history\": history})\n",
    "\n",
    "    return response"
   ]
  },
  {
   "cell_type": "markdown",
   "metadata": {},
   "source": [
    "# Answer Generation"
   ]
  },
  {
   "cell_type": "code",
   "execution_count": null,
   "metadata": {},
   "outputs": [],
   "source": [
    "df = pd.read_csv(\"questions.csv\")\n",
    "df.head()"
   ]
  },
  {
   "cell_type": "code",
   "execution_count": null,
   "metadata": {},
   "outputs": [],
   "source": [
    "answer = []\n",
    "for i in tqdm(range(len(df))):\n",
    "    question = df[\"question\"].iloc[i]\n",
    "    answer += [generate_answer(question)]\n",
    "    \n",
    "df[\"answer\"] = answer\n",
    "df.to_csv(\"question_answer.csv\", index=None)"
   ]
  },
  {
   "cell_type": "markdown",
   "metadata": {},
   "source": [
    "# Evaluation"
   ]
  },
  {
   "cell_type": "code",
   "execution_count": null,
   "metadata": {},
   "outputs": [],
   "source": [
    "df = pd.read_csv(\"question_answer.csv\")\n",
    "df[\"contexts\"] = df[\"contexts\"].apply(lambda x: ast.literal_eval(x))\n",
    "df[\"metadata\"] = df[\"metadata\"].apply(lambda x: ast.literal_eval(x))\n",
    "df.head()"
   ]
  },
  {
   "cell_type": "code",
   "execution_count": null,
   "metadata": {},
   "outputs": [],
   "source": [
    "from ragas import evaluate\n",
    "from ragas.metrics import answer_relevancy, AnswerCorrectness\n",
    "import datasets\n",
    "results = []\n",
    "\n",
    "# AnswerCorrectness(weights=[1,0]): 100% Factual answer correctness\n",
    "# answer_relevancy: Semantic Similarity\n",
    "\n",
    "metrics = [AnswerCorrectness(weights=[1,0]),answer_relevancy]\n",
    "for i in tqdm(range(len(df))):\n",
    "    results += [evaluate(datasets.Dataset.from_pandas(df[i:i+1]),metrics=metrics, llm=llm, embeddings=embeddings).to_pandas()]\n"
   ]
  },
  {
   "cell_type": "code",
   "execution_count": 81,
   "metadata": {},
   "outputs": [
    {
     "name": "stdout",
     "output_type": "stream",
     "text": [
      "Metric: answer_correctness \tValue: 0.4608059358059359\n",
      "Metric: answer_relevancy \tValue: 0.8482784726386126\n"
     ]
    }
   ],
   "source": [
    "results_df = pd.concat(results)\n",
    "results_df.to_csv(\"results.csv\", index=None)\n",
    "metric_names = [i.name for i in metrics]\n",
    "for i in results_df.columns:\n",
    "    if i in metric_names:\n",
    "        print(\"Metric:\", i, \"\\tValue:\", results_df[i].mean())"
   ]
  }
 ],
 "metadata": {
  "kernelspec": {
   "display_name": ".rag",
   "language": "python",
   "name": "python3"
  },
  "language_info": {
   "codemirror_mode": {
    "name": "ipython",
    "version": 3
   },
   "file_extension": ".py",
   "mimetype": "text/x-python",
   "name": "python",
   "nbconvert_exporter": "python",
   "pygments_lexer": "ipython3",
   "version": "3.11.9"
  }
 },
 "nbformat": 4,
 "nbformat_minor": 2
}
